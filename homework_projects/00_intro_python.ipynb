{
  "nbformat": 4,
  "nbformat_minor": 0,
  "metadata": {
    "colab": {
      "provenance": [],
      "authorship_tag": "ABX9TyMVlUq5EDq2VRfmxDgFQkX/",
      "include_colab_link": true
    },
    "kernelspec": {
      "name": "python3",
      "display_name": "Python 3"
    },
    "language_info": {
      "name": "python"
    }
  },
  "cells": [
    {
      "cell_type": "markdown",
      "metadata": {
        "id": "view-in-github",
        "colab_type": "text"
      },
      "source": [
        "<a href=\"https://colab.research.google.com/github/talha713/Assignment-4-By-GIAIC/blob/main/homework_projects/00_intro_python.ipynb\" target=\"_parent\"><img src=\"https://colab.research.google.com/assets/colab-badge.svg\" alt=\"Open In Colab\"/></a>"
      ]
    },
    {
      "cell_type": "code",
      "source": [
        "print(\"00_intro_python\")\n",
        "\n",
        "def main():\n",
        "      print(\"This program adds two numbers.\")\n",
        "      num1 = int(input(\"Enter the first number: \"))\n",
        "      num2 = int(input(\"Enter the second number: \"))\n",
        "      sum_of_numbers = num1 + num2\n",
        "      print(\"The sum of\", num1, \"and\", num2, \"is:\", sum_of_numbers)\n",
        "\n",
        "if __name__ == '__main__':\n",
        "    main()\n"
      ],
      "metadata": {
        "id": "4KxoXrNcE0qf",
        "outputId": "b5109246-8e1c-439b-9352-3ccf2fed0ecc",
        "colab": {
          "base_uri": "https://localhost:8080/"
        }
      },
      "execution_count": 3,
      "outputs": [
        {
          "output_type": "stream",
          "name": "stdout",
          "text": [
            "00_intro_python\n",
            "This program adds two numbers.\n",
            "Enter the first number: 12\n",
            "Enter the second number: 21\n",
            "The sum of 12 and 21 is: 33\n"
          ]
        }
      ]
    }
  ]
}