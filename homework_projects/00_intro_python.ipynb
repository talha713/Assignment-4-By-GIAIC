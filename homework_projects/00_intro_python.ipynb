{
  "nbformat": 4,
  "nbformat_minor": 0,
  "metadata": {
    "colab": {
      "provenance": [],
      "authorship_tag": "ABX9TyMCcZrVFflbWYvTRj1xPtZv",
      "include_colab_link": true
    },
    "kernelspec": {
      "name": "python3",
      "display_name": "Python 3"
    },
    "language_info": {
      "name": "python"
    }
  },
  "cells": [
    {
      "cell_type": "markdown",
      "metadata": {
        "id": "view-in-github",
        "colab_type": "text"
      },
      "source": [
        "<a href=\"https://colab.research.google.com/github/talha713/Assignment-4-By-GIAIC/blob/main/homework_projects/00_intro_python.ipynb\" target=\"_parent\"><img src=\"https://colab.research.google.com/assets/colab-badge.svg\" alt=\"Open In Colab\"/></a>"
      ]
    },
    {
      "cell_type": "code",
      "source": [
        "print(\"00_intro_python\")\n",
        "\n",
        "def main():\n",
        "      print(\"This program adds two numbers.\")\n",
        "      num1 = int(input(\"Enter the first number: \"))\n",
        "      num2 = int(input(\"Enter the second number: \"))\n",
        "      sum_of_numbers = num1 + num2\n",
        "      print(\"The sum of\", num1, \"and\", num2, \"is:\", sum_of_numbers)\n",
        "\n",
        "if __name__ == '__main__':\n",
        "    main()\n"
      ],
      "metadata": {
        "colab": {
          "base_uri": "https://localhost:8080/"
        },
        "id": "4KxoXrNcE0qf",
        "outputId": "b5109246-8e1c-439b-9352-3ccf2fed0ecc"
      },
      "execution_count": 3,
      "outputs": [
        {
          "output_type": "stream",
          "name": "stdout",
          "text": [
            "00_intro_python\n",
            "This program adds two numbers.\n",
            "Enter the first number: 12\n",
            "Enter the second number: 21\n",
            "The sum of 12 and 21 is: 33\n"
          ]
        }
      ]
    },
    {
      "cell_type": "code",
      "source": [
        "print(\"02_agreement_bot\")\n",
        "\n",
        "def bot():\n",
        "    animal = input(\"What's your favorite animal? \")\n",
        "    print(\"My favorite animal is also \" + animal + \"!\")\n",
        "\n",
        "if __name__ == '__main__':\n",
        "    bot()\n"
      ],
      "metadata": {
        "colab": {
          "base_uri": "https://localhost:8080/"
        },
        "id": "iGyAiK7CF9pz",
        "outputId": "bbfe428c-5cff-42d8-d296-77853ed6fae7"
      },
      "execution_count": 7,
      "outputs": [
        {
          "output_type": "stream",
          "name": "stdout",
          "text": [
            "02_agreement_bot\n",
            "What's your favorite animal? cat\n",
            "My favorite animal is also cat!\n"
          ]
        }
      ]
    },
    {
      "cell_type": "code",
      "source": [
        "print(\"03_fahrenheit_to_celsius\")\n",
        "\n",
        "def main():\n",
        "    print(\"This program converts Fahrenheit to Celsius.\")\n",
        "    fahrenheit_str = input(\"Enter temperature in Fahrenheit: \")\n",
        "    try:\n",
        "        fahrenheit = float(fahrenheit_str)\n",
        "        celsius = (fahrenheit - 32) * 5.0 / 9.0\n",
        "        print(f\"Temperature: {fahrenheit}F = {celsius}C\")\n",
        "    except ValueError:\n",
        "        print(\"Invalid input. Please enter a valid number for temperature.\")\n",
        "\n",
        "if __name__ == '__main__':\n",
        "    main()\n"
      ],
      "metadata": {
        "colab": {
          "base_uri": "https://localhost:8080/"
        },
        "id": "dD4aqcwlGeYH",
        "outputId": "b3d90d3b-cd4f-4fdb-deba-bb375fb12372"
      },
      "execution_count": 11,
      "outputs": [
        {
          "output_type": "stream",
          "name": "stdout",
          "text": [
            "03_fahrenheit_to_celsius\n",
            "This program converts Fahrenheit to Celsius.\n",
            "Enter temperature in Fahrenheit: 105\n",
            "Temperature: 105.0F = 40.55555555555556C\n"
          ]
        }
      ]
    },
    {
      "cell_type": "code",
      "source": [
        "print(\"04_how_old_are_they\")\n",
        "\n",
        "def main():\n",
        "    print(\"This program calculates how old they are.\")\n",
        "    anton_age : int = 21\n",
        "    beth_age : int = anton_age + 6\n",
        "    chen_age : int = beth_age + 20\n",
        "    drew_age : int = chen_age + anton_age\n",
        "    ethan_age : int = chen_age\n",
        "\n",
        "    print(\"Anton is \" + str(anton_age))\n",
        "    print(\"Beth is \" + str(beth_age))\n",
        "    print(\"Chen is \" + str(chen_age))\n",
        "    print(\"Drew is \" + str(drew_age))\n",
        "    print(\"Ethan is\" + str(ethan_age))\n",
        "\n",
        "if __name__ == '__main__':\n",
        "    main()\n"
      ],
      "metadata": {
        "colab": {
          "base_uri": "https://localhost:8080/"
        },
        "id": "FPCQ0Q4CH6Nu",
        "outputId": "08cd8723-d461-4883-c8ae-e5a364e509ec"
      },
      "execution_count": 16,
      "outputs": [
        {
          "output_type": "stream",
          "name": "stdout",
          "text": [
            "04_how_old_are_they\n",
            "This program calculates how old they are.\n",
            "Anton is 21\n",
            "Beth is 27\n",
            "Chen is 47\n",
            "Drew is 68\n",
            "Ethan is47\n"
          ]
        }
      ]
    },
    {
      "cell_type": "code",
      "source": [
        "print(\"05_triangle_perimeter\")\n",
        "\n",
        "def main():\n",
        "    print(\"This program calculates the perimeter of a triangle.\")\n",
        "    side1 = float(input(\"What is the length of side 1? \"))\n",
        "    side2 = float(input(\"What is the length of side 2? \"))\n",
        "    side3 = float(input(\"What is the length of side 3? \"))\n",
        "    perimeter = side1 + side2 + side3\n",
        "    print(\"The perimeter of the triangle is\", perimeter)\n",
        "\n",
        "if __name__ == '__main__':\n",
        "    main()\n"
      ],
      "metadata": {
        "colab": {
          "base_uri": "https://localhost:8080/"
        },
        "id": "PjEwyZWiJRtd",
        "outputId": "4d8eed67-d679-405e-be62-f9622f5c655b"
      },
      "execution_count": 18,
      "outputs": [
        {
          "output_type": "stream",
          "name": "stdout",
          "text": [
            "05_triangle_perimeter\n",
            "This program calculates the perimeter of a triangle.\n",
            "What is the length of side 1? 3\n",
            "What is the length of side 2? 4\n",
            "What is the length of side 3? 5.5\n",
            "The perimeter of the triangle is 12.5\n"
          ]
        }
      ]
    },
    {
      "cell_type": "code",
      "source": [
        "print(\"06_square_number\")\n",
        "\n",
        "def main():\n",
        "    print(\"This program calculates the square of a number.\")\n",
        "    number_str = input(\"Type a number to see its square: \")\n",
        "    try:\n",
        "        number = float(number_str)\n",
        "        square = number * number\n",
        "        print(f\"{number} squared is {square}\")\n",
        "    except ValueError:\n",
        "        print(\"Invalid input. Please enter a valid number.\")\n",
        "\n",
        "if __name__ == '__main__':\n",
        "    main()\n"
      ],
      "metadata": {
        "colab": {
          "base_uri": "https://localhost:8080/"
        },
        "id": "_fW4fD31JiOH",
        "outputId": "2e6cc557-8456-43b5-eefb-8ed946fa81b3"
      },
      "execution_count": 20,
      "outputs": [
        {
          "output_type": "stream",
          "name": "stdout",
          "text": [
            "06_square_number\n",
            "This program calculates the square of a number.\n",
            "Type a number to see its square: 4\n",
            "4.0 squared is 16.0\n"
          ]
        }
      ]
    }
  ]
}