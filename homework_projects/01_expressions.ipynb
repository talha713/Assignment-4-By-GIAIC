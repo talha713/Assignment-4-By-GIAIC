{
  "nbformat": 4,
  "nbformat_minor": 0,
  "metadata": {
    "colab": {
      "provenance": [],
      "authorship_tag": "ABX9TyNesFL3ygbX706cKfYitIwA",
      "include_colab_link": true
    },
    "kernelspec": {
      "name": "python3",
      "display_name": "Python 3"
    },
    "language_info": {
      "name": "python"
    }
  },
  "cells": [
    {
      "cell_type": "markdown",
      "metadata": {
        "id": "view-in-github",
        "colab_type": "text"
      },
      "source": [
        "<a href=\"https://colab.research.google.com/github/talha713/Assignment-4-By-GIAIC/blob/main/homework_projects/01_expressions.ipynb\" target=\"_parent\"><img src=\"https://colab.research.google.com/assets/colab-badge.svg\" alt=\"Open In Colab\"/></a>"
      ]
    },
    {
      "cell_type": "code",
      "source": [
        "import random\n",
        "\n",
        "def roll_dice():\n",
        "    die1: int = random.randint(1, 6)\n",
        "    die2: int = random.randint(1, 6)\n",
        "    total: int = die1 + die2\n",
        "    print(\"Total of two dice:\", total)\n",
        "\n",
        "def main():\n",
        "    print(\"01_dicesimulator\")\n",
        "    die1: int = 10\n",
        "    print(\"die1 in main() starts as: \" + str(die1))\n",
        "    roll_dice()\n",
        "    roll_dice()\n",
        "    roll_dice()\n",
        "    print(\"die1 in main() is: \" + str(die1))\n",
        "\n",
        "if __name__ == '__main__':\n",
        "    main()"
      ],
      "metadata": {
        "colab": {
          "base_uri": "https://localhost:8080/"
        },
        "id": "hPyNFHMIgbDF",
        "outputId": "c8af3977-906c-4f67-aa4c-801898c2b7ef"
      },
      "execution_count": 4,
      "outputs": [
        {
          "output_type": "stream",
          "name": "stdout",
          "text": [
            "01_dicesimulator\n",
            "die1 in main() starts as: 10\n",
            "Total of two dice: 3\n",
            "Total of two dice: 6\n",
            "Total of two dice: 5\n",
            "die1 in main() is: 10\n"
          ]
        }
      ]
    }
  ]
}