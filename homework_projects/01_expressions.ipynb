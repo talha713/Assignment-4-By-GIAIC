{
  "nbformat": 4,
  "nbformat_minor": 0,
  "metadata": {
    "colab": {
      "provenance": [],
      "authorship_tag": "ABX9TyNKUrC1ns1qQIyfCS+6JzCw",
      "include_colab_link": true
    },
    "kernelspec": {
      "name": "python3",
      "display_name": "Python 3"
    },
    "language_info": {
      "name": "python"
    }
  },
  "cells": [
    {
      "cell_type": "markdown",
      "metadata": {
        "id": "view-in-github",
        "colab_type": "text"
      },
      "source": [
        "<a href=\"https://colab.research.google.com/github/talha713/Assignment-4-By-GIAIC/blob/main/homework_projects/01_expressions.ipynb\" target=\"_parent\"><img src=\"https://colab.research.google.com/assets/colab-badge.svg\" alt=\"Open In Colab\"/></a>"
      ]
    },
    {
      "cell_type": "code",
      "source": [
        "import random\n",
        "\n",
        "def roll_dice():\n",
        "    die1: int = random.randint(1, 6)\n",
        "    die2: int = random.randint(1, 6)\n",
        "    total: int = die1 + die2\n",
        "    print(\"Total of two dice:\", total)\n",
        "\n",
        "def main():\n",
        "    print(\"01_dicesimulator\")\n",
        "    die1: int = 10\n",
        "    print(\"die1 in main() starts as: \" + str(die1))\n",
        "    roll_dice()\n",
        "    roll_dice()\n",
        "    roll_dice()\n",
        "    print(\"die1 in main() is: \" + str(die1))\n",
        "\n",
        "if __name__ == '__main__':\n",
        "    main()"
      ],
      "metadata": {
        "colab": {
          "base_uri": "https://localhost:8080/"
        },
        "id": "hPyNFHMIgbDF",
        "outputId": "c8af3977-906c-4f67-aa4c-801898c2b7ef"
      },
      "execution_count": 4,
      "outputs": [
        {
          "output_type": "stream",
          "name": "stdout",
          "text": [
            "01_dicesimulator\n",
            "die1 in main() starts as: 10\n",
            "Total of two dice: 3\n",
            "Total of two dice: 6\n",
            "Total of two dice: 5\n",
            "die1 in main() is: 10\n"
          ]
        }
      ]
    },
    {
      "cell_type": "code",
      "source": [
        "def main():\n",
        "    print(\"02_e=mc2\")\n",
        "    c = 299792458  # Speed of light in m/s\n",
        "\n",
        "    while True:\n",
        "        try:\n",
        "            m = float(input(\"Enter kilos of mass: \"))\n",
        "            if m < 0:\n",
        "                print(\"Mass cannot be negative. Please enter a non-negative value.\")\n",
        "                continue\n",
        "\n",
        "            e = m * c**2\n",
        "            print(\"e = m * C^2...\")\n",
        "            print(f\"m = {m} kg\")\n",
        "            print(f\"C = {c} m/s\")\n",
        "            print(f\"{e} joules of energy!\")\n",
        "            break\n",
        "        except ValueError:\n",
        "            print(\"Invalid input. Please enter a number for mass.\")\n",
        "\n",
        "if __name__ == '__main__':\n",
        "    main()\n"
      ],
      "metadata": {
        "colab": {
          "base_uri": "https://localhost:8080/"
        },
        "id": "kXokI5Pqii_r",
        "outputId": "4a616ab8-55e4-4e0e-b0d7-751d403e8096"
      },
      "execution_count": 7,
      "outputs": [
        {
          "output_type": "stream",
          "name": "stdout",
          "text": [
            "02_e=mc2\n",
            "Enter kilos of mass: 20\n",
            "e = m * C^2...\n",
            "m = 20.0 kg\n",
            "C = 299792458 m/s\n",
            "1.7975103574736353e+18 joules of energy!\n"
          ]
        }
      ]
    },
    {
      "cell_type": "code",
      "source": [
        "def feet_to_inches(feet):\n",
        "    inches = feet * 12\n",
        "    return inches\n",
        "\n",
        "def main():\n",
        "    print(\"03_feet_to_inches\")\n",
        "    feet = float(input(\"Enter the number of feet: \"))\n",
        "    inches = feet_to_inches(feet)\n",
        "    print(f\"{feet} feet is equal to {inches} inches.\")\n",
        "\n",
        "if __name__ == '__main__':\n",
        "    main()\n"
      ],
      "metadata": {
        "colab": {
          "base_uri": "https://localhost:8080/"
        },
        "id": "cQOXiDFXkF1r",
        "outputId": "d360ef14-aafb-446e-e01d-a914ec282831"
      },
      "execution_count": 9,
      "outputs": [
        {
          "output_type": "stream",
          "name": "stdout",
          "text": [
            "03_feet_to_inches\n",
            "Enter the number of feet: 120\n",
            "120.0 feet is equal to 1440.0 inches.\n"
          ]
        }
      ]
    }
  ]
}