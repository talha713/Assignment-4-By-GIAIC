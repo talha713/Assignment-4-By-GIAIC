{
  "nbformat": 4,
  "nbformat_minor": 0,
  "metadata": {
    "colab": {
      "provenance": [],
      "authorship_tag": "ABX9TyOZp5+QgLDiHzm8YWKiW+o5",
      "include_colab_link": true
    },
    "kernelspec": {
      "name": "python3",
      "display_name": "Python 3"
    },
    "language_info": {
      "name": "python"
    }
  },
  "cells": [
    {
      "cell_type": "markdown",
      "metadata": {
        "id": "view-in-github",
        "colab_type": "text"
      },
      "source": [
        "<a href=\"https://colab.research.google.com/github/talha713/Assignment-4-By-GIAIC/blob/main/homework_projects/01_expressions.ipynb\" target=\"_parent\"><img src=\"https://colab.research.google.com/assets/colab-badge.svg\" alt=\"Open In Colab\"/></a>"
      ]
    },
    {
      "cell_type": "code",
      "source": [
        "import random\n",
        "\n",
        "def roll_dice():\n",
        "    die1: int = random.randint(1, 6)\n",
        "    die2: int = random.randint(1, 6)\n",
        "    total: int = die1 + die2\n",
        "    print(\"Total of two dice:\", total)\n",
        "\n",
        "def main():\n",
        "    print(\"01_dicesimulator\")\n",
        "    die1: int = 10\n",
        "    print(\"die1 in main() starts as: \" + str(die1))\n",
        "    roll_dice()\n",
        "    roll_dice()\n",
        "    roll_dice()\n",
        "    print(\"die1 in main() is: \" + str(die1))\n",
        "\n",
        "if __name__ == '__main__':\n",
        "    main()"
      ],
      "metadata": {
        "colab": {
          "base_uri": "https://localhost:8080/"
        },
        "id": "hPyNFHMIgbDF",
        "outputId": "c8af3977-906c-4f67-aa4c-801898c2b7ef"
      },
      "execution_count": 4,
      "outputs": [
        {
          "output_type": "stream",
          "name": "stdout",
          "text": [
            "01_dicesimulator\n",
            "die1 in main() starts as: 10\n",
            "Total of two dice: 3\n",
            "Total of two dice: 6\n",
            "Total of two dice: 5\n",
            "die1 in main() is: 10\n"
          ]
        }
      ]
    },
    {
      "cell_type": "code",
      "source": [
        "def main():\n",
        "    print(\"02_e=mc2\")\n",
        "    c = 299792458  # Speed of light in m/s\n",
        "\n",
        "    while True:\n",
        "        try:\n",
        "            m = float(input(\"Enter kilos of mass: \"))\n",
        "            if m < 0:\n",
        "                print(\"Mass cannot be negative. Please enter a non-negative value.\")\n",
        "                continue\n",
        "\n",
        "            e = m * c**2\n",
        "            print(\"e = m * C^2...\")\n",
        "            print(f\"m = {m} kg\")\n",
        "            print(f\"C = {c} m/s\")\n",
        "            print(f\"{e} joules of energy!\")\n",
        "            break\n",
        "        except ValueError:\n",
        "            print(\"Invalid input. Please enter a number for mass.\")\n",
        "\n",
        "if __name__ == '__main__':\n",
        "    main()\n"
      ],
      "metadata": {
        "colab": {
          "base_uri": "https://localhost:8080/"
        },
        "id": "kXokI5Pqii_r",
        "outputId": "4a616ab8-55e4-4e0e-b0d7-751d403e8096"
      },
      "execution_count": 7,
      "outputs": [
        {
          "output_type": "stream",
          "name": "stdout",
          "text": [
            "02_e=mc2\n",
            "Enter kilos of mass: 20\n",
            "e = m * C^2...\n",
            "m = 20.0 kg\n",
            "C = 299792458 m/s\n",
            "1.7975103574736353e+18 joules of energy!\n"
          ]
        }
      ]
    },
    {
      "cell_type": "code",
      "source": [
        "def feet_to_inches(feet):\n",
        "    inches = feet * 12\n",
        "    return inches\n",
        "\n",
        "def main():\n",
        "    print(\"03_feet_to_inches\")\n",
        "    feet = float(input(\"Enter the number of feet: \"))\n",
        "    inches = feet_to_inches(feet)\n",
        "    print(f\"{feet} feet is equal to {inches} inches.\")\n",
        "\n",
        "if __name__ == '__main__':\n",
        "    main()\n"
      ],
      "metadata": {
        "colab": {
          "base_uri": "https://localhost:8080/"
        },
        "id": "cQOXiDFXkF1r",
        "outputId": "d360ef14-aafb-446e-e01d-a914ec282831"
      },
      "execution_count": 9,
      "outputs": [
        {
          "output_type": "stream",
          "name": "stdout",
          "text": [
            "03_feet_to_inches\n",
            "Enter the number of feet: 120\n",
            "120.0 feet is equal to 1440.0 inches.\n"
          ]
        }
      ]
    },
    {
      "cell_type": "code",
      "source": [
        "import math\n",
        "\n",
        "def main():\n",
        "    print(\"04_pythagorean_theorem\")\n",
        "    try:\n",
        "        ab = float(input(\"Enter the length of AB: \"))\n",
        "        ac = float(input(\"Enter the length of AC: \"))\n",
        "\n",
        "        if ab < 0 or ac < 0:\n",
        "            print(\"Side lengths cannot be negative.\")\n",
        "            return\n",
        "\n",
        "        bc = math.sqrt(ab**2 + ac**2)\n",
        "        print(f\"The length of BC (the hypotenuse) is: {bc}\")\n",
        "    except ValueError:\n",
        "        print(\"Invalid input. Please enter numbers for the side lengths.\")\n",
        "\n",
        "if __name__ == '__main__':\n",
        "    main()\n"
      ],
      "metadata": {
        "colab": {
          "base_uri": "https://localhost:8080/"
        },
        "id": "Q5FYOfycmD8q",
        "outputId": "3446bcce-478d-4f77-99c6-d8a2463e8aa3"
      },
      "execution_count": 13,
      "outputs": [
        {
          "output_type": "stream",
          "name": "stdout",
          "text": [
            "04_pythagorean_theorem\n",
            "Enter the length of AB: 24\n",
            "Enter the length of AC: 24\n",
            "The length of BC (the hypotenuse) is: 33.94112549695428\n"
          ]
        }
      ]
    },
    {
      "cell_type": "code",
      "source": [
        "def main():\n",
        "    print(\"05_remainder_division\")\n",
        "    try:\n",
        "        num1 = int(input(\"Please enter an integer to be divided: \"))\n",
        "        num2 = int(input(\"Please enter an integer to divide by: \"))\n",
        "\n",
        "        if num2 == 0:\n",
        "            print(\"Cannot divide by zero.\")\n",
        "            return\n",
        "\n",
        "        result = num1 // num2\n",
        "        remainder = num1 % num2\n",
        "        print(f\"The result of this division is {result} with a remainder of {remainder}\")\n",
        "\n",
        "    except ValueError:\n",
        "        print(\"Invalid input. Please enter integers.\")\n",
        "\n",
        "if __name__ == '__main__':\n",
        "    main()\n"
      ],
      "metadata": {
        "colab": {
          "base_uri": "https://localhost:8080/"
        },
        "id": "VVY2byfWnBtN",
        "outputId": "b6bf1e48-996f-484a-cbd8-459fe1d2ccab"
      },
      "execution_count": 21,
      "outputs": [
        {
          "output_type": "stream",
          "name": "stdout",
          "text": [
            "05_remainder_division\n",
            "Please enter an integer to be divided: 15\n",
            "Please enter an integer to divide by: 2\n",
            "The result of this division is 7 with a remainder of 1\n"
          ]
        }
      ]
    },
    {
      "cell_type": "code",
      "source": [
        "import random\n",
        "\n",
        "def roll_dice():\n",
        "    die1 = random.randint(1, 6)\n",
        "    die2 = random.randint(1, 6)\n",
        "    total = die1 + die2\n",
        "    print(\"Die 1:\", die1)\n",
        "    print(\"Die 2:\", die2)\n",
        "    print(\"Total:\", total)\n",
        "\n",
        "def main():\n",
        "    print(\"06_rolldice\")\n",
        "    print(\"Rolling the dice...\")\n",
        "    roll_dice()\n",
        "\n",
        "if __name__ == '__main__':\n",
        "    main()\n"
      ],
      "metadata": {
        "colab": {
          "base_uri": "https://localhost:8080/"
        },
        "id": "t3dZR0Vtnwqi",
        "outputId": "7916dc51-5c4e-498a-fe31-92adc8a2031e"
      },
      "execution_count": 23,
      "outputs": [
        {
          "output_type": "stream",
          "name": "stdout",
          "text": [
            "06_rolldice\n",
            "Rolling the dice...\n",
            "Die 1: 3\n",
            "Die 2: 2\n",
            "Total: 5\n"
          ]
        }
      ]
    },
    {
      "cell_type": "code",
      "source": [
        "def main():\n",
        "    print(\"06_seconds_in_year\")\n",
        "    DAYS_IN_YEAR = 365\n",
        "    HOURS_IN_DAY = 24\n",
        "    MINUTES_IN_HOUR = 60\n",
        "    SECONDS_IN_MINUTE = 60\n",
        "\n",
        "    total_seconds = DAYS_IN_YEAR * HOURS_IN_DAY * MINUTES_IN_HOUR * SECONDS_IN_MINUTE\n",
        "    print(f\"There are {total_seconds} seconds in a year!\")\n",
        "\n",
        "if __name__ == '__main__':\n",
        "    main()"
      ],
      "metadata": {
        "colab": {
          "base_uri": "https://localhost:8080/"
        },
        "id": "9bZbNiHaoOKf",
        "outputId": "dfe8cb6f-4d55-42aa-dff1-b51ef19f6a16"
      },
      "execution_count": 28,
      "outputs": [
        {
          "output_type": "stream",
          "name": "stdout",
          "text": [
            "06_seconds_in_year\n",
            "There are 31536000 seconds in a year!\n"
          ]
        }
      ]
    },
    {
      "cell_type": "code",
      "source": [
        "SENTENCE_START: str = \"Panaversity is fun. I learned to program and used Python to make my \"\n",
        "\n",
        "def main():\n",
        "    print(\"07_tiny_mad_lib\")\n",
        "    adjective: str = input(\"Please type an adjective and press enter. \")\n",
        "    noun: str = input(\"Please type a noun and press enter. \")\n",
        "    verb: str = input(\"Please type a verb and press enter. \")\n",
        "\n",
        "    print(SENTENCE_START + adjective + \" \" + noun + \" \" + verb + \"!\")\n",
        "\n",
        "if __name__ == '__main__':\n",
        "    main()"
      ],
      "metadata": {
        "colab": {
          "base_uri": "https://localhost:8080/"
        },
        "id": "xn6dhk2xo085",
        "outputId": "ff99bc02-4b03-4745-9e6a-935e2c357743"
      },
      "execution_count": 31,
      "outputs": [
        {
          "output_type": "stream",
          "name": "stdout",
          "text": [
            "07_tiny_mad_lib\n",
            "Please type an adjective and press enter. good\n",
            "Please type a noun and press enter. student\n",
            "Please type a verb and press enter. learn\n",
            "Panaversity is fun. I learned to program and used Python to make my good student learn!\n"
          ]
        }
      ]
    }
  ]
}