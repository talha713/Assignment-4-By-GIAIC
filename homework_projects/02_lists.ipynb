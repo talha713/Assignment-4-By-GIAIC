{
  "nbformat": 4,
  "nbformat_minor": 0,
  "metadata": {
    "colab": {
      "provenance": [],
      "authorship_tag": "ABX9TyMZpl27/jf0gxXkqumVljQi",
      "include_colab_link": true
    },
    "kernelspec": {
      "name": "python3",
      "display_name": "Python 3"
    },
    "language_info": {
      "name": "python"
    }
  },
  "cells": [
    {
      "cell_type": "markdown",
      "metadata": {
        "id": "view-in-github",
        "colab_type": "text"
      },
      "source": [
        "<a href=\"https://colab.research.google.com/github/talha713/Assignment-4-By-GIAIC/blob/main/homework_projects/02_lists.ipynb\" target=\"_parent\"><img src=\"https://colab.research.google.com/assets/colab-badge.svg\" alt=\"Open In Colab\"/></a>"
      ]
    },
    {
      "cell_type": "code",
      "execution_count": 4,
      "metadata": {
        "colab": {
          "base_uri": "https://localhost:8080/"
        },
        "id": "x6D9g4fzT7Dg",
        "outputId": "52dff406-e533-433d-cf07-3c237470d989"
      },
      "outputs": [
        {
          "output_type": "stream",
          "name": "stdout",
          "text": [
            "01_add_many_number\n",
            "The sum of the numbers is: 15\n"
          ]
        }
      ],
      "source": [
        "def sum_numbers(numbers):\n",
        "    if not numbers:\n",
        "        return 0\n",
        "    total = 0\n",
        "    for number in numbers:\n",
        "        total += number\n",
        "    return total\n",
        "\n",
        "\n",
        "def main():\n",
        "    print(\"01_add_many_number\")\n",
        "    my_numbers = [1, 2, 3, 4, 5]\n",
        "    result = sum_numbers(my_numbers)\n",
        "    print(f\"The sum of the numbers is: {result}\")\n",
        "\n",
        "\n",
        "if __name__ == '__main__':\n",
        "    main()\n"
      ]
    },
    {
      "cell_type": "code",
      "source": [
        "def double_numbers(numbers):\n",
        "    doubled_numbers = []\n",
        "    for number in numbers:\n",
        "        doubled_numbers.append(number * 2)\n",
        "    return doubled_numbers\n",
        "\n",
        "\n",
        "def main():\n",
        "    print(\"02_double_lists\")\n",
        "    numbers = [1, 2, 3, 4]\n",
        "    doubled_numbers = double_numbers(numbers)\n",
        "    print(doubled_numbers)  # Output: [2, 4, 6, 8]\n",
        "\n",
        "if __name__ == '__main__':\n",
        "    main()\n"
      ],
      "metadata": {
        "colab": {
          "base_uri": "https://localhost:8080/"
        },
        "id": "Hs-Qj9Z5VJQT",
        "outputId": "841d7280-ca22-48ab-ccf9-8564781c7c51"
      },
      "execution_count": 6,
      "outputs": [
        {
          "output_type": "stream",
          "name": "stdout",
          "text": [
            "02_double_lists\n",
            "[2, 4, 6, 8]\n"
          ]
        }
      ]
    }
  ]
}